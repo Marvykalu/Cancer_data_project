{
 "cells": [
  {
   "cell_type": "markdown",
   "metadata": {},
   "source": [
    "# Predicting Breast Cancer Diagnosis using Logistic Regression\n",
    "\n",
    "Our aim in this project is to build a machine learning model to predict the diagnosis of breast cancer cells. Different classification algorithms are usually preferred for machine learning applications. In this study, logistic regression classification algorithm was created and for model evaluation we will consider\n",
    "\n",
    "- accuracy scores\n",
    "- recell score\n",
    "- ROC curve and auc\n",
    "- F1 Score\n",
    "\n",
    "We will first apply the algorithm to raw data, then standardized data to learn the effect of standardizing our data for Machine learning purposes. Some demerits of Logistic regression model include\n",
    "\n",
    "- inability to handle large number of categorical features/variables.\n",
    "- it is vulnerable to overfitting\n",
    "- can't solve the non-linear problem with the logistic regression that is why it requires a transformation of non-linear features.\n",
    "- Logistic regression will not perform well with independent variables that are not correlated to the target variable and are very similar or correlated to each other.\n",
    "\n",
    "Therefore using the standardized data, four different datasets that included various features were created\n",
    "\n",
    "- The first dataset will consist of all features\n",
    "- The second will consist of low correlated features\n",
    "- The third will consist of highly correlated features\n",
    "- The last dataset will consist of features selected from REFCV logistic regression. \n",
    "\n",
    "We will obtain all model evaluation results for the different datasets to make comparisons.\n",
    "\n",
    "The steps we will take include\n",
    "\n",
    "- Split data into train and test sets\n",
    "\n",
    "- fit an initial machine learning model and evaluate\n",
    "\n",
    "- Tune hyperparameters"
   ]
  },
  {
   "cell_type": "code",
   "execution_count": 1,
   "metadata": {},
   "outputs": [],
   "source": [
    "#calling our libraries\n",
    "import pandas as pd\n",
    "import numpy as np\n",
    "import matplotlib.pyplot as plt\n",
    "import seaborn as sns\n",
    "import joblib\n",
    "from sklearn.linear_model import LogisticRegression\n",
    "from sklearn.model_selection import GridSearchCV\n",
    "\n",
    "\n",
    "from sklearn.model_selection import train_test_split\n",
    "from sklearn.preprocessing import StandardScaler\n",
    "from sklearn.model_selection import train_test_split\n",
    "from sklearn.ensemble import RandomForestClassifier\n",
    "from sklearn.metrics import roc_auc_score,f1_score,confusion_matrix,precision_score, recall_score,roc_curve, precision_recall_curve\n",
    "from sklearn.metrics import accuracy_score\n",
    "import warnings\n",
    "warnings.filterwarnings('ignore', category=FutureWarning)\n",
    "warnings.filterwarnings('ignore', category=DeprecationWarning)\n",
    "\n"
   ]
  },
  {
   "cell_type": "markdown",
   "metadata": {},
   "source": [
    "**Let's read in the different data**\n",
    "\n",
    "Here we call the saved data from our previous notebook. We note that data has been cleaned and standardized."
   ]
  },
  {
   "cell_type": "code",
   "execution_count": 2,
   "metadata": {},
   "outputs": [],
   "source": [
    "low_cor_df = pd.read_csv(\"Breast_cancer_data.csv\") #data with low correlated features\n",
    "high_cor_df = pd.read_csv(\"Breast_cancer_data2.csv\") #data with high correlated features\n",
    "all_features_df = pd.read_csv(\"scaled_df.csv\") #data with all features"
   ]
  },
  {
   "cell_type": "markdown",
   "metadata": {},
   "source": [
    "**Print shape of data**"
   ]
  },
  {
   "cell_type": "code",
   "execution_count": 3,
   "metadata": {},
   "outputs": [
    {
     "name": "stdout",
     "output_type": "stream",
     "text": [
      "High correlated dataset has 15 features\n",
      "Low correlated dataset has 21 features\n",
      "Dataset (with all features) has 31 features\n"
     ]
    }
   ],
   "source": [
    "print(\"High correlated dataset has {} features\".format(high_cor_df.shape[1])) #diagnosis included\n",
    "print(\"Low correlated dataset has {} features\".format(low_cor_df.shape[1])) #diagnosis included\n",
    "print(\"Dataset (with all features) has {} features\".format(all_features_df.shape[1])) "
   ]
  },
  {
   "cell_type": "markdown",
   "metadata": {},
   "source": [
    "**Let us take a look at all features**"
   ]
  },
  {
   "cell_type": "code",
   "execution_count": 4,
   "metadata": {},
   "outputs": [
    {
     "name": "stdout",
     "output_type": "stream",
     "text": [
      "Data with high correlated features\n"
     ]
    },
    {
     "data": {
      "text/plain": [
       "Index(['diagnosis', 'perimeter_mean', 'radius_mean', 'area_mean',\n",
       "       'perimeter_worst', 'radius_worst', 'area_worst', 'perimeter_se',\n",
       "       'radius_se', 'area_se', 'concavity_mean', 'concave points_mean',\n",
       "       'concave points_worst', 'texture_mean', 'texture_worst'],\n",
       "      dtype='object')"
      ]
     },
     "execution_count": 4,
     "metadata": {},
     "output_type": "execute_result"
    }
   ],
   "source": [
    "print(\"Data with high correlated features\")\n",
    "high_cor_df.columns"
   ]
  },
  {
   "cell_type": "code",
   "execution_count": 5,
   "metadata": {},
   "outputs": [
    {
     "name": "stdout",
     "output_type": "stream",
     "text": [
      "Data with low correlated features\n"
     ]
    },
    {
     "data": {
      "text/plain": [
       "Index(['diagnosis', 'smoothness_mean', 'compactness_mean', 'symmetry_mean',\n",
       "       'fractal_dimension_mean', 'radius_se', 'texture_se', 'smoothness_se',\n",
       "       'compactness_se', 'concavity_se', 'concave points_se', 'symmetry_se',\n",
       "       'fractal_dimension_se', 'texture_worst', 'perimeter_worst',\n",
       "       'smoothness_worst', 'compactness_worst', 'concavity_worst',\n",
       "       'concave points_worst', 'symmetry_worst', 'fractal_dimension_worst'],\n",
       "      dtype='object')"
      ]
     },
     "execution_count": 5,
     "metadata": {},
     "output_type": "execute_result"
    }
   ],
   "source": [
    "print(\"Data with low correlated features\")\n",
    "low_cor_df.columns"
   ]
  },
  {
   "cell_type": "code",
   "execution_count": 6,
   "metadata": {},
   "outputs": [
    {
     "data": {
      "text/plain": [
       "Index(['diagnosis', 'radius_mean', 'texture_mean', 'perimeter_mean',\n",
       "       'area_mean', 'smoothness_mean', 'compactness_mean', 'concavity_mean',\n",
       "       'concave points_mean', 'symmetry_mean', 'fractal_dimension_mean',\n",
       "       'radius_se', 'texture_se', 'perimeter_se', 'area_se', 'smoothness_se',\n",
       "       'compactness_se', 'concavity_se', 'concave points_se', 'symmetry_se',\n",
       "       'fractal_dimension_se', 'radius_worst', 'texture_worst',\n",
       "       'perimeter_worst', 'area_worst', 'smoothness_worst',\n",
       "       'compactness_worst', 'concavity_worst', 'concave points_worst',\n",
       "       'symmetry_worst', 'fractal_dimension_worst'],\n",
       "      dtype='object')"
      ]
     },
     "execution_count": 6,
     "metadata": {},
     "output_type": "execute_result"
    }
   ],
   "source": [
    "all_features_df.columns"
   ]
  },
  {
   "cell_type": "markdown",
   "metadata": {},
   "source": [
    "## Standardization\n",
    "Check that features of all data are standardized with zero mean and standard deviation of 1.\n",
    "\n",
    "First, we need to divide the given columns into two types of variables dependent(or target variable) and independent variable(or feature variables)."
   ]
  },
  {
   "cell_type": "code",
   "execution_count": 7,
   "metadata": {},
   "outputs": [
    {
     "data": {
      "text/plain": [
       "(9.115926135410776e-17, 1.0)"
      ]
     },
     "execution_count": 7,
     "metadata": {},
     "output_type": "execute_result"
    }
   ],
   "source": [
    "#check for low correlated dataset\n",
    "features_low =low_cor_df.drop('diagnosis',axis = 1) #independent feature\n",
    "target_low = low_cor_df['diagnosis'] #dependent feature\n",
    "\n",
    "#confirm that feature dataset has standard deviation of 1 and mean of 0\n",
    "np.mean(features_low.values),np.std(features_low.values)"
   ]
  },
  {
   "cell_type": "code",
   "execution_count": 8,
   "metadata": {},
   "outputs": [
    {
     "data": {
      "text/plain": [
       "(132.42331902406477, 319.9329950155204)"
      ]
     },
     "execution_count": 8,
     "metadata": {},
     "output_type": "execute_result"
    }
   ],
   "source": [
    "#check for high correlated dataset\n",
    "features_high =high_cor_df.drop('diagnosis',axis = 1) #independent feature\n",
    "target_high = high_cor_df['diagnosis'] #dependent feature\n",
    "\n",
    "#confirm that feature dataset has standard deviation of 1 and mean of 0\n",
    "np.mean(features_high.values),np.std(features_high.values)"
   ]
  },
  {
   "cell_type": "code",
   "execution_count": 9,
   "metadata": {},
   "outputs": [
    {
     "data": {
      "text/plain": [
       "(4.370649516977769e-18, 1.0)"
      ]
     },
     "execution_count": 9,
     "metadata": {},
     "output_type": "execute_result"
    }
   ],
   "source": [
    "#check for dataset with all features\n",
    "all_features =all_features_df.drop('diagnosis',axis = 1) #independent feature\n",
    "all_target = all_features_df['diagnosis'] #dependent feature\n",
    "\n",
    "#confirm that feature dataset has standard deviation of 1 and mean of 0\n",
    "np.mean(all_features.values),np.std(all_features.values)"
   ]
  },
  {
   "cell_type": "markdown",
   "metadata": {},
   "source": [
    "## Machine Learning"
   ]
  },
  {
   "cell_type": "markdown",
   "metadata": {},
   "source": [
    "In this section, we are going to split the data into train and test set in preparation for eliminating redundant features and fitting a basic model. \n",
    "\n",
    "To understand model performance, dividing the dataset into a training set and a test set is a good strategy. Here, the Dataset is broken into two parts in a ratio of 70:30. It means 70% data will be used for model training and 30% for model testing."
   ]
  },
  {
   "cell_type": "code",
   "execution_count": 10,
   "metadata": {},
   "outputs": [],
   "source": [
    "# split data train 70 % and test 30 %\n",
    "x_low_train, x_low_test, y_low_train, y_low_test = train_test_split(features_low, target_low, test_size=0.3, random_state=42)\n",
    "\n"
   ]
  },
  {
   "cell_type": "code",
   "execution_count": 11,
   "metadata": {},
   "outputs": [],
   "source": [
    "# split data train 70 % and test 30 %\n",
    "x_high_train, x_high_test, y_high_train, y_high_test = train_test_split(features_high, target_high, test_size=0.3, random_state=42)\n"
   ]
  },
  {
   "cell_type": "code",
   "execution_count": 12,
   "metadata": {},
   "outputs": [],
   "source": [
    "# split data train 70 % and test 30 %\n",
    "x_all_train, x_all_test, y_all_train, y_all_test = train_test_split(all_features, all_target, test_size=0.3, random_state=42)\n",
    "\n"
   ]
  },
  {
   "cell_type": "markdown",
   "metadata": {},
   "source": [
    "### Model Development and Prediction\n",
    "\n",
    "- First, import the Logistic Regression module and create a Logistic Regression classifier object using LogisticRegression() function.\n",
    "\n",
    "- Then, fit your model on the train set using fit() and perform prediction on the test set using predict()."
   ]
  },
  {
   "cell_type": "code",
   "execution_count": 13,
   "metadata": {},
   "outputs": [],
   "source": [
    "#instantiate modelusing default parameters\n",
    "lr = LogisticRegression(C = 100) #data not specified are set to default\n",
    "\n",
    "#fit the model with data\n",
    "lr.fit(x_low_train, y_low_train) #model learns the relationship between x_train and y_train\n",
    "\n",
    "#\n",
    "\n",
    "y_pred = lr.predict(x_low_test) #use information from model to predict a new observation"
   ]
  },
  {
   "cell_type": "code",
   "execution_count": 14,
   "metadata": {},
   "outputs": [],
   "source": [
    "#instantiate modelusing default parameters\n",
    "logreg = LogisticRegression(C = 100,max_iter=10000) #data not specified are set to default\n",
    "\n",
    "#fit the model with data\n",
    "logreg.fit(x_high_train, y_high_train) #model learns the relationship between x_train and y_train\n",
    "\n",
    "#\n",
    "\n",
    "y_pred_high = logreg.predict(x_high_test) #use information from model to predict a new observation"
   ]
  },
  {
   "cell_type": "code",
   "execution_count": 15,
   "metadata": {},
   "outputs": [],
   "source": [
    "#instantiate modelusing default parameters\n",
    "logreg_all = LogisticRegression(C = 1) #data not specified are set to default\n",
    "\n",
    "#fit the model with data\n",
    "logreg_all.fit(x_all_train, y_all_train) #model learns the relationship between x_train and y_train\n",
    "\n",
    "#\n",
    "\n",
    "y_pred_all = logreg_all.predict(x_all_test) #use information from model to predict a new observation"
   ]
  },
  {
   "cell_type": "markdown",
   "metadata": {},
   "source": [
    "## Evaluating model performance\n",
    "\n",
    "Ways of evaluating model performance include:\n",
    "\n",
    "- ROC curve\n",
    "- F1 Score\n",
    "- Precision recall\n",
    "- Accuracy: Correct predictions / Total number of data points"
   ]
  },
  {
   "cell_type": "markdown",
   "metadata": {},
   "source": [
    "### Confusion matrix\n",
    "\n",
    "Is a table used to describe the performance of a classification model on a set of test data for which the true values are known.\n",
    "\n",
    "- used to visualize the performance of an algorithm. \n",
    "\n",
    "The fundamental of a confusion matrix is the number of correct and incorrect predictions are summed up class-wise.\n"
   ]
  },
  {
   "cell_type": "code",
   "execution_count": 16,
   "metadata": {},
   "outputs": [
    {
     "data": {
      "image/png": "[encoded data removed]",
      "text/plain": [
       "<Figure size 1152x432 with 6 Axes>"
      ]
     },
     "metadata": {
      "needs_background": "light"
     },
     "output_type": "display_data"
    }
   ],
   "source": [
    "def conf_mat(x,y):\n",
    "    cm = confusion_matrix(x, y)\n",
    "    sns.heatmap(cm,annot=True,fmt=\"d\")\n",
    "    \n",
    "plt.figure(figsize = (16,6))\n",
    "plt.subplot(1,3,1)\n",
    "conf_mat(y_low_test, y_pred)\n",
    "plt.subplot(1,3,2)\n",
    "conf_mat(y_high_test, y_pred_high)\n",
    "plt.subplot(1,3,3)\n",
    "conf_mat(y_all_test, y_pred_all)"
   ]
  },
  {
   "cell_type": "markdown",
   "metadata": {},
   "source": [
    "Here we see our two diagnosis classes 0 and 1. Diagonal values represent accurate predictions, while non-diagonal elements are inaccurate predictions. In the output, 106 and 62 are actual predictions, and 2 and 1, or 2 and 2 are incorrect predictions. \n",
    "\n",
    "- We notice that all dataset yields equal accurate predictions. The distinction comes from number of inaccurate predictions.\n",
    "\n",
    "The confusion matrices show how well we are able to predict the breast cancer diagnosis. Dataset with all features and low correlated features give the same confusion matrix. What does this mean? \n",
    "\n",
    "### Accuracy, Precision, Recall and F1_Score"
   ]
  },
  {
   "cell_type": "code",
   "execution_count": 17,
   "metadata": {},
   "outputs": [
    {
     "name": "stdout",
     "output_type": "stream",
     "text": [
      "Accuracy is: 0.9824561403508771\n",
      "Precision: 0.96875\n",
      "Recall: 0.9841269841269841\n",
      "F1_Score: 0.9763779527559054\n"
     ]
    }
   ],
   "source": [
    "ac = accuracy_score(y_low_test, y_pred) # pred returns a numoy array\n",
    "print('Accuracy is:',ac)\n",
    "print(\"Precision:\",precision_score(y_low_test, y_pred))\n",
    "print(\"Recall:\",recall_score(y_low_test, y_pred))\n",
    "print(\"F1_Score:\",f1_score(y_low_test, y_pred))"
   ]
  },
  {
   "cell_type": "code",
   "execution_count": 18,
   "metadata": {},
   "outputs": [
    {
     "name": "stdout",
     "output_type": "stream",
     "text": [
      "Accuracy is:  0.9766081871345029\n",
      "Precision: 0.9682539682539683\n",
      "Recall: 0.9682539682539683\n",
      "F1_Score: 0.9682539682539683\n"
     ]
    }
   ],
   "source": [
    "ac_high = accuracy_score(y_high_test, y_pred_high) # pred returns a numoy array\n",
    "print('Accuracy is: ',ac_high)\n",
    "print(\"Precision:\",precision_score(y_high_test, y_pred_high))\n",
    "print(\"Recall:\",recall_score(y_high_test, y_pred_high))\n",
    "print(\"F1_Score:\",f1_score(y_high_test, y_pred_high))"
   ]
  },
  {
   "cell_type": "code",
   "execution_count": 19,
   "metadata": {},
   "outputs": [
    {
     "name": "stdout",
     "output_type": "stream",
     "text": [
      "Accuracy is:  0.9824561403508771\n",
      "Precision: 0.96875\n",
      "Recall: 0.9841269841269841\n",
      "F1_Score: 0.9763779527559054\n"
     ]
    }
   ],
   "source": [
    "ac_all = accuracy_score(y_all_test, y_pred_all) # pred returns a numoy array\n",
    "print('Accuracy is: ',ac_all)\n",
    "print(\"Precision:\",precision_score(y_all_test, y_pred_all))\n",
    "print(\"Recall:\",recall_score(y_all_test, y_pred_all))\n",
    "print(\"F1_Score:\",f1_score(y_all_test, y_pred_all))"
   ]
  },
  {
   "cell_type": "markdown",
   "metadata": {},
   "source": [
    "### Comment on observation\n",
    "\n",
    "Overall, we observe a very good performance of the model with all dataset.\n",
    "\n",
    "- We note that the same score values were obtained for data with all features and with low correlated features. The question then is, does this make a better descrimination for predicting our medical diagnosis of breast cancer tumor? We will compare later with the model evaluation using ROC curce\n",
    "\n",
    "- We see that the data with high correlated features gave a worst performance a scores.\n",
    "\n",
    "- Accuracy - Our classification rate for all data is greater than 95%, considered as good accuracy.\n",
    "\n",
    "- Precision: Precision is about being precise, i.e., how accurate your model is. In other words, you can say, when a model makes a prediction, how often it is correct. Thus we see that from our Logistic Regression model, we have more than 95% likelihood that if a predicted patients are going to have cancer, that patients have 95% of the time.\n",
    "\n",
    "- Recall: If there are patients who have cancer in the test set and our Logistic Regression model can identify it more than 95% of the time."
   ]
  },
  {
   "cell_type": "markdown",
   "metadata": {},
   "source": [
    "### Receiver Operating Characteristic (ROC)\n",
    "\n",
    "Receiver Operating Characteristic (ROC) curve is a plot of the true positive rate (TPR) against the false positive rate (FPR). It shows the tradeoff between sensitivity (TPR) and specificity (1-FPR). \n",
    "\n",
    "- Classifiers that give curves closer to the top-left corner indicate a better performance.\n",
    "- The closer the curve comes to the 45-degree diagonal of the ROC space, the less accurate the test.\n",
    "- Does not depend on the class distribution. This makes it useful for evaluating classifiers predicting rare events such as diseases or disasters. In contrast, evaluating performance using accuracy would favor classifiers that always predict a negative outcome for rare events\n",
    "\n",
    "- As the area under an ROC curve is a measure of the usefulness of a test in general, where a greater area means a more useful test, the areas under ROC curves are used to compare the usefulness of tests.\n",
    "\n",
    "- AUC score 1 represents perfect classifier, and 0.5 represents a worthless classifier."
   ]
  },
  {
   "cell_type": "code",
   "execution_count": 20,
   "metadata": {},
   "outputs": [
    {
     "data": {
      "image/png": "[encoded data removed]",
      "text/plain": [
       "<Figure size 576x432 with 1 Axes>"
      ]
     },
     "metadata": {
      "needs_background": "light"
     },
     "output_type": "display_data"
    }
   ],
   "source": [
    "plt.figure(figsize = (8,6))\n",
    "y_score = lr.decision_function(x_low_test)\n",
    "fpr, tpr, _ = roc_curve(y_low_test,  y_score)\n",
    "auc = roc_auc_score(y_low_test, y_score)\n",
    "plt.plot(fpr,tpr,label=\"data, (auc = %0.3f)\" % auc)\n",
    "plt.plot([0,1],[0,1], 'r--', linewidth = 2)\n",
    "plt.legend(loc=4)\n",
    "plt.grid()\n",
    "plt.xlabel('False Positive Rate (1 - Specificity )')\n",
    "plt.ylabel('(True Positive Rate (Sensitivity )')\n",
    "plt.title('ROC Curve for Data with Low Correlated Features')\n",
    "plt.show()"
   ]
  },
  {
   "cell_type": "code",
   "execution_count": 21,
   "metadata": {},
   "outputs": [
    {
     "data": {
      "image/png": "[encoded data removed]",
      "text/plain": [
       "<Figure size 576x432 with 1 Axes>"
      ]
     },
     "metadata": {
      "needs_background": "light"
     },
     "output_type": "display_data"
    }
   ],
   "source": [
    "plt.figure(figsize = (8,6))\n",
    "\n",
    "y_score_high = logreg.decision_function(x_high_test)\n",
    "fpr, tpr, _ = roc_curve(y_high_test,  y_score_high)\n",
    "auc = roc_auc_score(y_high_test, y_score_high)\n",
    "plt.plot(fpr,tpr,label=\"data, (auc = %0.3f)\" % auc)\n",
    "plt.plot([0,1],[0,1], 'r--', linewidth = 2)\n",
    "plt.legend(loc=4)\n",
    "plt.grid()\n",
    "plt.xlabel('False Positive Rate (1 - Specificity )')\n",
    "plt.ylabel('(True Positive Rate (Sensitivity )')\n",
    "plt.title('ROC Curve for Data with high Correlated Features')\n",
    "plt.show()"
   ]
  },
  {
   "cell_type": "code",
   "execution_count": 22,
   "metadata": {},
   "outputs": [
    {
     "data": {
      "image/png": "[encoded data removed]",
      "text/plain": [
       "<Figure size 576x432 with 1 Axes>"
      ]
     },
     "metadata": {
      "needs_background": "light"
     },
     "output_type": "display_data"
    }
   ],
   "source": [
    "plt.figure(figsize = (8,6))\n",
    "y_score_all = logreg_all.decision_function(x_all_test)\n",
    "fpr, tpr, _ = roc_curve(y_all_test,  y_score_all)\n",
    "auc = roc_auc_score(y_all_test, y_score_all)\n",
    "plt.plot(fpr,tpr,label=\" data, (area = %0.3f)\" % auc)\n",
    "plt.plot([0,1],[0,1], 'r--', linewidth = 2)\n",
    "plt.legend(loc=4)\n",
    "plt.grid()\n",
    "plt.xlabel('False Positive Rate (1 - Specificity )')\n",
    "plt.ylabel('(True Positive Rate (Sensitivity )')\n",
    "plt.title('ROC Curve for Data with all Features')\n",
    "plt.show()"
   ]
  },
  {
   "cell_type": "markdown",
   "metadata": {},
   "source": [
    "We get the best AUC score using data with all features, and worst AUC using low correlated data. "
   ]
  },
  {
   "cell_type": "markdown",
   "metadata": {},
   "source": [
    "## Summary/ Conclusion\n",
    "\n",
    "logistic regression with all features included and with low correlated features provided the best accuracy, F1_Score, Recall and Precision results respectively, compared to logistic regression with high correlated features. However, when we look at the ROC curve, we see that logistic regression with all features has the highest auc (area under the roc curve) of 0.998, while logistic regression with low features yielded the lowest auc of 0.994.\n",
    "\n",
    "Therefore, to conclude, logistic regression with all features provide the best model for predicting the diagnosis of breast cancer cells."
   ]
  },
  {
   "cell_type": "code",
   "execution_count": null,
   "metadata": {},
   "outputs": [],
   "source": []
  }
 ],
 "metadata": {
  "kernelspec": {
   "display_name": "Python 3",
   "language": "python",
   "name": "python3"
  },
  "language_info": {
   "codemirror_mode": {
    "name": "ipython",
    "version": 3
   },
   "file_extension": ".py",
   "mimetype": "text/x-python",
   "name": "python",
   "nbconvert_exporter": "python",
   "pygments_lexer": "ipython3",
   "version": "3.7.7"
  }
 },
 "nbformat": 4,
 "nbformat_minor": 4
}
